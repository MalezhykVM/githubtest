{
 "cells": [
  {
   "cell_type": "code",
   "execution_count": 2,
   "id": "ac0972db",
   "metadata": {},
   "outputs": [
    {
     "name": "stdout",
     "output_type": "stream",
     "text": [
      "how many coin tosses are you going to do?: 5\n",
      "The results are:\n",
      "heads 2\n",
      "tails 3\n",
      "Win 90\n"
     ]
    }
   ],
   "source": [
    "from random import randint\n",
    "\n",
    "heads = 0\n",
    "tails = 0\n",
    "w = 100\n",
    "flip = int(input(\"how many coin tosses are you going to do?: \"))\n",
    "for i in range(flip):\n",
    "    result =randint(0, 1)\n",
    "    #print(result)\n",
    "    if result ==0:\n",
    "        #print(\"heads\")\n",
    "        #print(w + 10)\n",
    "        heads +=1\n",
    "        w +=10\n",
    "    else:\n",
    "        #print(\"tails\")\n",
    "        #print(w - 10)\n",
    "        w -=10\n",
    "        tails +=1\n",
    "print(\"The results are:\")\n",
    "\n",
    "print(\"heads\", heads)\n",
    "print(\"tails\", tails)\n",
    "print(\"Win\", w)\n",
    "\n"
   ]
  },
  {
   "cell_type": "code",
   "execution_count": 20,
   "id": "cd78bfe2",
   "metadata": {},
   "outputs": [
    {
     "name": "stdout",
     "output_type": "stream",
     "text": [
      "This is the list that was empthy and we just appended i: [0, 1, 2, 3, 4, 5, 6, 7, 8, 9]\n",
      "\n",
      "This is the list where we had 10 from the beginning, each time multiplied the last element \n",
      "with 5 and then appended it: [10, 20, 40, 80, 160, 320, 640, 1280, 2560, 5120, 10240]\n"
     ]
    }
   ],
   "source": [
    "#Example on how to save into list\n",
    "my_list = [] #empthy list\n",
    "my_list_with_start = [10] #you can also put value in from the beginning\n",
    "for i in range(10):\n",
    "    my_list.append(i) #append i to the end of the list\n",
    "    \n",
    "    last_element_of_my_list_with_start = my_list_with_start[-1] #the [-1] always takes the last element\n",
    "    next_element = last_element_of_my_list_with_start * 2 #multiply the last element in the list with i\n",
    "    my_list_with_start.append(next_element) #and then append the variable to the list\n",
    "    \n",
    "print(f'This is the list that was empthy and we just appended i: {my_list}')\n",
    "print(f'\\nThis is the list where we had 10 from the beginning, each time multiplied the last element \\nwith 5 and then appended it: {my_list_with_start}')"
   ]
  },
  {
   "cell_type": "code",
   "execution_count": 15,
   "id": "8ccbb7cc",
   "metadata": {},
   "outputs": [
    {
     "name": "stdout",
     "output_type": "stream",
     "text": [
      "The random number is: 0.90, therefore:\n",
      "TAILS\n"
     ]
    }
   ],
   "source": [
    "#Example on how to do a bias coin\n",
    "import numpy as np\n",
    "random_number = np.random.uniform(low=0.0, high=1.0, size=1) #generate a random number between 0 and 1\n",
    "bias_on_coin = 0.3 #instead of having equal change on HEADS and TAILS we here set that the probability of HEAD is only 0.3 (and therefore the probability of TAILS is 0.7)\n",
    "print(f'The random number is: {random_number[0]:.2f}, therefore:')\n",
    "if random_number < bias_on_coin:\n",
    "    print('HEADS')\n",
    "else:\n",
    "    print(\"TAILS\")"
   ]
  }
 ],
 "metadata": {
  "kernelspec": {
   "display_name": "Python 3 (ipykernel)",
   "language": "python",
   "name": "python3"
  },
  "language_info": {
   "codemirror_mode": {
    "name": "ipython",
    "version": 3
   },
   "file_extension": ".py",
   "mimetype": "text/x-python",
   "name": "python",
   "nbconvert_exporter": "python",
   "pygments_lexer": "ipython3",
   "version": "3.9.7"
  }
 },
 "nbformat": 4,
 "nbformat_minor": 5
}
