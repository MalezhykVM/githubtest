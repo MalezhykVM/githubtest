{
 "cells": [
  {
   "cell_type": "code",
   "execution_count": 1,
   "id": "ac0972db",
   "metadata": {},
   "outputs": [
    {
     "name": "stdout",
     "output_type": "stream",
     "text": [
      "how many coin tosses are you going to do?: 5\n",
      "1\n",
      "tails\n",
      "90\n",
      "0\n",
      "heads\n",
      "100\n",
      "0\n",
      "heads\n",
      "110\n",
      "0\n",
      "heads\n",
      "120\n",
      "1\n",
      "tails\n",
      "110\n",
      "The results are:\n",
      "heads 3\n",
      "tails 2\n",
      "Win 110\n"
     ]
    }
   ],
   "source": [
    "from random import randint\n",
    "\n",
    "heads = 0\n",
    "tails = 0\n",
    "w = 100\n",
    "flip = int(input(\"how many coin tosses are you going to do?: \"))\n",
    "for i in range(flip):\n",
    "    result =randint(0, 1)\n",
    "    print(result)\n",
    "    if result ==0:\n",
    "        print(\"heads\")\n",
    "        print(w + 10)\n",
    "        heads +=1\n",
    "        w +=10\n",
    "    else:\n",
    "        print(\"tails\")\n",
    "        print(w - 10)\n",
    "        w -=10\n",
    "        tails +=1\n",
    "print(\"The results are:\")\n",
    "\n",
    "print(\"heads\", heads)\n",
    "print(\"tails\", tails)\n",
    "print(\"Win\", w)\n",
    "\n"
   ]
  },
  {
   "cell_type": "code",
   "execution_count": null,
   "id": "cd78bfe2",
   "metadata": {},
   "outputs": [],
   "source": []
  }
 ],
 "metadata": {
  "kernelspec": {
   "display_name": "Python 3 (ipykernel)",
   "language": "python",
   "name": "python3"
  },
  "language_info": {
   "codemirror_mode": {
    "name": "ipython",
    "version": 3
   },
   "file_extension": ".py",
   "mimetype": "text/x-python",
   "name": "python",
   "nbconvert_exporter": "python",
   "pygments_lexer": "ipython3",
   "version": "3.9.7"
  }
 },
 "nbformat": 4,
 "nbformat_minor": 5
}
