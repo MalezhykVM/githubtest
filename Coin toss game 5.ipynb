{
 "cells": [
  {
   "cell_type": "code",
   "execution_count": 1,
   "id": "de9739ef",
   "metadata": {},
   "outputs": [],
   "source": [
    "import random #what does this line do? Could it be deleted?\n",
    "from random import randint\n",
    "from time import sleep #what does this line do? Could it be deleted?"
   ]
  },
  {
   "cell_type": "code",
   "execution_count": 8,
   "id": "b22ee6a2",
   "metadata": {},
   "outputs": [
    {
     "name": "stdout",
     "output_type": "stream",
     "text": [
      "How many tosses are you going to do: 10\n",
      "heads or tails: 1\n"
     ]
    },
    {
     "ename": "TypeError",
     "evalue": "'str' object cannot be interpreted as an integer",
     "output_type": "error",
     "traceback": [
      "\u001b[0;31m---------------------------------------------------------------------------\u001b[0m",
      "\u001b[0;31mTypeError\u001b[0m                                 Traceback (most recent call last)",
      "\u001b[0;32m/var/folders/hj/g608mqyj2qlcgmf51c5319z40000gn/T/ipykernel_18311/2501498704.py\u001b[0m in \u001b[0;36m<module>\u001b[0;34m\u001b[0m\n\u001b[1;32m      9\u001b[0m \u001b[0mtoss\u001b[0m \u001b[0;34m=\u001b[0m \u001b[0minput\u001b[0m\u001b[0;34m(\u001b[0m\u001b[0;34m\"How many tosses are you going to do: \"\u001b[0m\u001b[0;34m)\u001b[0m \u001b[0;31m#what does this line do? Perhaps give a better name?\u001b[0m\u001b[0;34m\u001b[0m\u001b[0;34m\u001b[0m\u001b[0m\n\u001b[1;32m     10\u001b[0m \u001b[0mselection\u001b[0m \u001b[0;34m=\u001b[0m \u001b[0minput\u001b[0m\u001b[0;34m(\u001b[0m\u001b[0;34m\"heads or tails: \"\u001b[0m\u001b[0;34m)\u001b[0m \u001b[0;31m#What does this line do? Could it be deleted?\u001b[0m\u001b[0;34m\u001b[0m\u001b[0;34m\u001b[0m\u001b[0m\n\u001b[0;32m---> 11\u001b[0;31m \u001b[0;32mfor\u001b[0m \u001b[0mi\u001b[0m \u001b[0;32min\u001b[0m \u001b[0mrange\u001b[0m\u001b[0;34m(\u001b[0m\u001b[0mtoss\u001b[0m\u001b[0;34m)\u001b[0m\u001b[0;34m:\u001b[0m \u001b[0;31m#The thing inside range should be a number - is it that?\u001b[0m\u001b[0;34m\u001b[0m\u001b[0;34m\u001b[0m\u001b[0m\n\u001b[0m\u001b[1;32m     12\u001b[0m     \u001b[0mresult\u001b[0m \u001b[0;34m=\u001b[0m \u001b[0mrandom\u001b[0m\u001b[0;34m(\u001b[0m\u001b[0;36m0\u001b[0m\u001b[0;34m,\u001b[0m \u001b[0;36m1\u001b[0m\u001b[0;34m)\u001b[0m \u001b[0;31m#This line doesn't work - hint: you have imported 'randint'\u001b[0m\u001b[0;34m\u001b[0m\u001b[0;34m\u001b[0m\u001b[0m\n\u001b[1;32m     13\u001b[0m     \u001b[0;31m#print(result)\u001b[0m\u001b[0;34m\u001b[0m\u001b[0;34m\u001b[0m\u001b[0m\n",
      "\u001b[0;31mTypeError\u001b[0m: 'str' object cannot be interpreted as an integer"
     ]
    }
   ],
   "source": [
    "coin = [\"heads\", \"tails\"] #what does this line do? Could it be deleted?\n",
    "toss = random.choice(coin) #what does this line do? Could it be deleted?\n",
    "w = 100\n",
    "\n",
    "#creating empthy lists you can append to\n",
    "wealth = [w] #this list you can append the wealth - it starts at 100 and should go up by 10 every round HEADS and down by 10 every round TAILS\n",
    "outcome = [] #this list you can append whether the output was HEAD or TAILS\n",
    "\n",
    "toss = input(\"How many tosses are you going to do: \") #what does this line do? Perhaps give a better name? and is it nessesary that it is an input and not just a value?\n",
    "selection = input(\"heads or tails: \") #What does this line do? Could it be deleted?\n",
    "for i in range(toss): #The thing inside range should be a number - is it that?\n",
    "    result = random(0, 1) #This line doesn't work - hint: you have imported 'randint'\n",
    "    #print(result)\n",
    "    if result == 0: #if this then you win!\n",
    "        print(\"Heads\") #instead of printing append to a list\n",
    "        if(\"Heads\"): #what does this line do? Could it be deleted?\n",
    "            print(\"You win! The coin landed on \" + toss) #what does this line do? Could it be deleted?\n",
    "            print(w + 10) #Instead of printing append to a list - and remember to update the wealth \n",
    "    else:\n",
    "        print(\"You lose!, The coin landed on \" + toss) #what does this line do? Could it be deleted?\n",
    "        print(w - 10) #Instead of printing append to a list - and remember to update the wealth \n",
    "        print(\"Tails\") #instead of printing append to a list"
   ]
  },
  {
   "cell_type": "code",
   "execution_count": null,
   "id": "f2634690",
   "metadata": {},
   "outputs": [],
   "source": []
  }
 ],
 "metadata": {
  "kernelspec": {
   "display_name": "Python 3 (ipykernel)",
   "language": "python",
   "name": "python3"
  },
  "language_info": {
   "codemirror_mode": {
    "name": "ipython",
    "version": 3
   },
   "file_extension": ".py",
   "mimetype": "text/x-python",
   "name": "python",
   "nbconvert_exporter": "python",
   "pygments_lexer": "ipython3",
   "version": "3.9.7"
  }
 },
 "nbformat": 4,
 "nbformat_minor": 5
}
