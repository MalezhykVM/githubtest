{
 "cells": [
  {
   "cell_type": "code",
   "execution_count": 1,
   "id": "5cd3243a",
   "metadata": {},
   "outputs": [],
   "source": [
    "import numpy as np\n",
    "import pandas as pd\n",
    "import matplotlib.pyplot as plt"
   ]
  },
  {
   "cell_type": "code",
   "execution_count": 2,
   "id": "282b21fd",
   "metadata": {},
   "outputs": [],
   "source": [
    "#Define the variables\n",
    "N = 1000  #Number of rounds\n",
    "w = 100   #Starting wealth\n",
    "h = 50    #Change in wealth if heads\n",
    "t = -50   #change in wealth if tails\n",
    "p = 0.5   #Probability of getting tails"
   ]
  },
  {
   "cell_type": "code",
   "execution_count": 3,
   "id": "a0b3ce46",
   "metadata": {},
   "outputs": [],
   "source": [
    "#Initialise lists to store information in\n",
    "wealth = [w]     \n",
    "coin_tosses = [] "
   ]
  },
  {
   "cell_type": "code",
   "execution_count": 4,
   "id": "156dfb48",
   "metadata": {},
   "outputs": [],
   "source": [
    "for i in range(N): #Loop over N rounds (ie. throw the coin N times)\n",
    "    coin_toss = np.random.uniform(low=0,high=1) #get a random number between 0 and 1\n",
    "    \n",
    "    if coin_toss > p: #If random number is larger than p, then we say it's HEADS\n",
    "        coin_tosses.append('HEADS') #Add HEADS in the coin_tosses list\n",
    "        new_wealth = wealth[-1] + h #Get the new wealth by adding the value for HEADS (h) to the wealth (note [-1] means the last entry in the list)\n",
    "        wealth.append(new_wealth) #Add the new wealth to the wealth list\n",
    "    else: #If the random number is smaller than p, then we say it's TAILS\n",
    "        coin_tosses.append('TAILS')\n",
    "        new_wealth = wealth[-1] + t\n",
    "        wealth.append(new_wealth)"
   ]
  },
  {
   "cell_type": "code",
   "execution_count": 5,
   "id": "36f550bc",
   "metadata": {},
   "outputs": [
    {
     "name": "stdout",
     "output_type": "stream",
     "text": [
      "  Coin_toss  Wealth before toss  Wealth after toss\n",
      "0     TAILS                 100                 50\n",
      "1     HEADS                  50                100\n",
      "2     HEADS                 100                150\n",
      "3     HEADS                 150                200\n",
      "4     HEADS                 200                250\n",
      "    Coin_toss  Wealth before toss  Wealth after toss\n",
      "995     TAILS                1150               1100\n",
      "996     HEADS                1100               1150\n",
      "997     HEADS                1150               1200\n",
      "998     HEADS                1200               1250\n",
      "999     TAILS                1250               1200\n"
     ]
    }
   ],
   "source": [
    "#Save the information in a pandas DataFrame\n",
    "data = {'Coin_toss': coin_tosses,          #All the coin tosses\n",
    "        'Wealth before toss': wealth[:-1], #All, but the last of the wealths\n",
    "        'Wealth after toss': wealth[1:]}   #All, but the first of the wealths\n",
    "df = pd.DataFrame(data=data) \n",
    "print(df.head(5)) #Show the first 5 rows of the DataFrame\n",
    "print(df.tail(5))"
   ]
  },
  {
   "cell_type": "code",
   "execution_count": 6,
   "id": "20a4f608",
   "metadata": {},
   "outputs": [
    {
     "data": {
      "image/png": "[encoded data removed]",
      "text/plain": [
       "<Figure size 432x288 with 1 Axes>"
      ]
     },
     "metadata": {
      "needs_background": "light"
     },
     "output_type": "display_data"
    }
   ],
   "source": [
    "#Plot the coin tosses with a bar plot to see that it worked as expected (here p = 0.5, so we expect equally many heads and tails)\n",
    "plt.hist(coin_tosses)\n",
    "plt.show()"
   ]
  },
  {
   "cell_type": "code",
   "execution_count": 7,
   "id": "f23fe7cf",
   "metadata": {},
   "outputs": [
    {
     "data": {
      "image/png": "[encoded data removed]",
      "text/plain": [
       "<Figure size 432x288 with 1 Axes>"
      ]
     },
     "metadata": {
      "needs_background": "light"
     },
     "output_type": "display_data"
    }
   ],
   "source": [
    "#Plot the wealth trajectory\n",
    "plt.plot(range(N+1),wealth) \n",
    "plt.xlabel('Rounds')\n",
    "plt.ylabel('Wealth')\n",
    "plt.show()"
   ]
  }
 ],
 "metadata": {
  "kernelspec": {
   "display_name": "Python 3 (ipykernel)",
   "language": "python",
   "name": "python3"
  },
  "language_info": {
   "codemirror_mode": {
    "name": "ipython",
    "version": 3
   },
   "file_extension": ".py",
   "mimetype": "text/x-python",
   "name": "python",
   "nbconvert_exporter": "python",
   "pygments_lexer": "ipython3",
   "version": "3.9.7"
  }
 },
 "nbformat": 4,
 "nbformat_minor": 5
}
