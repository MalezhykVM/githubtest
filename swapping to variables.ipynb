{
 "cells": [
  {
   "cell_type": "code",
   "execution_count": 1,
   "id": "e6e5df11",
   "metadata": {},
   "outputs": [],
   "source": [
    "v1=\"firtst string\"\n",
    "v2=\"second string\""
   ]
  },
  {
   "cell_type": "code",
   "execution_count": 2,
   "id": "188cbca1",
   "metadata": {},
   "outputs": [
    {
     "name": "stdout",
     "output_type": "stream",
     "text": [
      "firtst string\n"
     ]
    }
   ],
   "source": [
    "print(v1)"
   ]
  },
  {
   "cell_type": "code",
   "execution_count": 3,
   "id": "6a128245",
   "metadata": {},
   "outputs": [
    {
     "name": "stdout",
     "output_type": "stream",
     "text": [
      "second string\n"
     ]
    }
   ],
   "source": [
    "print(v2)"
   ]
  },
  {
   "cell_type": "code",
   "execution_count": 4,
   "id": "dc17ae17",
   "metadata": {},
   "outputs": [],
   "source": [
    "temp = v1\n",
    "v1=v2\n",
    "v2=temp"
   ]
  },
  {
   "cell_type": "code",
   "execution_count": 5,
   "id": "8b29eb7b",
   "metadata": {},
   "outputs": [
    {
     "name": "stdout",
     "output_type": "stream",
     "text": [
      "second string\n"
     ]
    }
   ],
   "source": [
    "print(v1)"
   ]
  },
  {
   "cell_type": "code",
   "execution_count": 6,
   "id": "d341213c",
   "metadata": {},
   "outputs": [
    {
     "name": "stdout",
     "output_type": "stream",
     "text": [
      "firtst string\n"
     ]
    }
   ],
   "source": [
    "print(v2)"
   ]
  },
  {
   "cell_type": "code",
   "execution_count": 7,
   "id": "348945e9",
   "metadata": {},
   "outputs": [
    {
     "name": "stdout",
     "output_type": "stream",
     "text": [
      "come on\n"
     ]
    }
   ],
   "source": [
    "print(\"come on\")"
   ]
  },
  {
   "cell_type": "code",
   "execution_count": 8,
   "id": "1d225565",
   "metadata": {},
   "outputs": [
    {
     "name": "stdout",
     "output_type": "stream",
     "text": [
      "2\n"
     ]
    }
   ],
   "source": [
    "print(2)"
   ]
  },
  {
   "cell_type": "code",
   "execution_count": 9,
   "id": "f14bc164",
   "metadata": {},
   "outputs": [
    {
     "name": "stdout",
     "output_type": "stream",
     "text": [
      "welcoem\n",
      "4\n"
     ]
    }
   ],
   "source": [
    "print(\"welcoem\")\n",
    "print(4)"
   ]
  },
  {
   "cell_type": "code",
   "execution_count": 10,
   "id": "57bbc976",
   "metadata": {},
   "outputs": [],
   "source": [
    "a=1"
   ]
  },
  {
   "cell_type": "code",
   "execution_count": 11,
   "id": "aac6119d",
   "metadata": {},
   "outputs": [
    {
     "name": "stdout",
     "output_type": "stream",
     "text": [
      "1\n"
     ]
    }
   ],
   "source": [
    "print(a)"
   ]
  },
  {
   "cell_type": "code",
   "execution_count": 12,
   "id": "24aad5f1",
   "metadata": {},
   "outputs": [],
   "source": [
    "b=2"
   ]
  },
  {
   "cell_type": "code",
   "execution_count": 13,
   "id": "bd0f8285",
   "metadata": {},
   "outputs": [
    {
     "name": "stdout",
     "output_type": "stream",
     "text": [
      "2\n"
     ]
    }
   ],
   "source": [
    "print(b)"
   ]
  },
  {
   "cell_type": "code",
   "execution_count": 14,
   "id": "e7efd78d",
   "metadata": {},
   "outputs": [
    {
     "name": "stdout",
     "output_type": "stream",
     "text": [
      "3\n"
     ]
    }
   ],
   "source": [
    "print(a+b)"
   ]
  },
  {
   "cell_type": "code",
   "execution_count": 15,
   "id": "fe23bcdc",
   "metadata": {},
   "outputs": [
    {
     "name": "stdout",
     "output_type": "stream",
     "text": [
      "-1\n"
     ]
    }
   ],
   "source": [
    "print(a-b)"
   ]
  },
  {
   "cell_type": "code",
   "execution_count": 16,
   "id": "27a0253d",
   "metadata": {},
   "outputs": [
    {
     "name": "stdout",
     "output_type": "stream",
     "text": [
      "2\n"
     ]
    }
   ],
   "source": [
    "print(a*b)"
   ]
  },
  {
   "cell_type": "code",
   "execution_count": 17,
   "id": "02cc898f",
   "metadata": {},
   "outputs": [
    {
     "name": "stdout",
     "output_type": "stream",
     "text": [
      "0.5\n"
     ]
    }
   ],
   "source": [
    "print(a/b)"
   ]
  },
  {
   "cell_type": "code",
   "execution_count": 2,
   "id": "67b89bfd",
   "metadata": {},
   "outputs": [],
   "source": [
    "V1 = \"first string\"\n",
    "V2 = \"second string\""
   ]
  },
  {
   "cell_type": "code",
   "execution_count": 3,
   "id": "32570f0b",
   "metadata": {},
   "outputs": [],
   "source": [
    "temp = V1\n",
    "V1 = V2\n",
    "V2 = temp"
   ]
  },
  {
   "cell_type": "code",
   "execution_count": 4,
   "id": "0060fa1f",
   "metadata": {},
   "outputs": [
    {
     "name": "stdout",
     "output_type": "stream",
     "text": [
      "second string\n"
     ]
    }
   ],
   "source": [
    "print(V1)"
   ]
  },
  {
   "cell_type": "code",
   "execution_count": 5,
   "id": "b860533f",
   "metadata": {},
   "outputs": [
    {
     "name": "stdout",
     "output_type": "stream",
     "text": [
      "first string\n"
     ]
    }
   ],
   "source": [
    "print(V2)"
   ]
  },
  {
   "cell_type": "code",
   "execution_count": 6,
   "id": "6d3294e1",
   "metadata": {},
   "outputs": [
    {
     "name": "stdout",
     "output_type": "stream",
     "text": [
      "second string\n"
     ]
    }
   ],
   "source": [
    "print(V1)"
   ]
  },
  {
   "cell_type": "code",
   "execution_count": 7,
   "id": "5cb5306b",
   "metadata": {},
   "outputs": [
    {
     "name": "stdout",
     "output_type": "stream",
     "text": [
      "first string\n"
     ]
    }
   ],
   "source": [
    "print(V2)"
   ]
  },
  {
   "cell_type": "code",
   "execution_count": 8,
   "id": "3d1dbcff",
   "metadata": {},
   "outputs": [
    {
     "name": "stdout",
     "output_type": "stream",
     "text": [
      "10\n"
     ]
    }
   ],
   "source": [
    "total2 = 0\n",
    "j = 1\n",
    "while j < 5:\n",
    "    total2 += j\n",
    "    j += 1\n",
    "print(total2)"
   ]
  },
  {
   "cell_type": "code",
   "execution_count": null,
   "id": "45bd6c64",
   "metadata": {},
   "outputs": [],
   "source": []
  }
 ],
 "metadata": {
  "kernelspec": {
   "display_name": "Python 3 (ipykernel)",
   "language": "python",
   "name": "python3"
  },
  "language_info": {
   "codemirror_mode": {
    "name": "ipython",
    "version": 3
   },
   "file_extension": ".py",
   "mimetype": "text/x-python",
   "name": "python",
   "nbconvert_exporter": "python",
   "pygments_lexer": "ipython3",
   "version": "3.9.7"
  }
 },
 "nbformat": 4,
 "nbformat_minor": 5
}
