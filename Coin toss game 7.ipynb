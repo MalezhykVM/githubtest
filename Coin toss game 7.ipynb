{
 "cells": [
  {
   "cell_type": "code",
   "execution_count": 41,
   "id": "d8f9599b",
   "metadata": {},
   "outputs": [
    {
     "name": "stdout",
     "output_type": "stream",
     "text": [
      "How many flips are you willin to make: 3\n",
      "1\n",
      "tails\n",
      "The results are :\n",
      "heads [0]\n",
      "tails [1]\n",
      "Win [100]\n",
      "0\n",
      "heads\n",
      "The results are :\n",
      "heads [0, 1]\n",
      "tails [1, 0]\n",
      "Win [100, 110]\n",
      "1\n",
      "tails\n",
      "The results are :\n",
      "heads [0, 1, 0]\n",
      "tails [1, 0, 1]\n",
      "Win [100, 110]\n"
     ]
    }
   ],
   "source": [
    "heads = []\n",
    "tails = []\n",
    "w = [100]\n",
    "flip =int(input(\"How many flips are you willin to make: \"))\n",
    "for i in range(flip):\n",
    "    result=randint(0, 1)\n",
    "    print(result)\n",
    "    if result == 0:    \n",
    "        print(\"heads\")\n",
    "        heads.append(1)\n",
    "        tails.append(0)\n",
    "        previous_wealth=w[-1]\n",
    "        new_wealth=previous_wealth + 10\n",
    "        w.append(new_wealth)\n",
    "    else:\n",
    "        print(\"tails\")\n",
    "        tails.append(1)\n",
    "        heads.append(0)\n",
    "        previous_wealth=w[-1]\n",
    "        new_wealth = previous_wealth - 10\n",
    "    print(\"The results are :\")\n",
    "    print(\"heads\", heads)\n",
    "    print(\"tails\", tails)\n",
    "    print(\"Win\", w)"
   ]
  },
  {
   "cell_type": "code",
   "execution_count": null,
   "id": "cb2cf199",
   "metadata": {},
   "outputs": [],
   "source": []
  }
 ],
 "metadata": {
  "kernelspec": {
   "display_name": "Python 3 (ipykernel)",
   "language": "python",
   "name": "python3"
  },
  "language_info": {
   "codemirror_mode": {
    "name": "ipython",
    "version": 3
   },
   "file_extension": ".py",
   "mimetype": "text/x-python",
   "name": "python",
   "nbconvert_exporter": "python",
   "pygments_lexer": "ipython3",
   "version": "3.9.7"
  }
 },
 "nbformat": 4,
 "nbformat_minor": 5
}
