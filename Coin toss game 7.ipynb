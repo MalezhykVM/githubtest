{
 "cells": [
  {
   "cell_type": "code",
   "execution_count": 3,
   "id": "f61843d5",
   "metadata": {},
   "outputs": [
    {
     "name": "stdout",
     "output_type": "stream",
     "text": [
      "how many coin tosses are you going to do?: 5\n",
      "The results are:\n",
      "heads 47\n",
      "tails 53\n",
      "Win 100\n",
      "[0, 1, 2, 3, 4, 5, 6, 7, 8, 9, 10, 11, 12, 13, 14, 15, 16, 17, 18, 19, 20, 21, 22, 23, 24, 25, 26, 27, 28, 29, 30, 31, 32, 33, 34, 35, 36, 37, 38, 39, 40, 41, 42, 43, 44, 45, 46, 47, 48, 49, 50, 51, 52, 53, 54, 55, 56, 57, 58, 59, 60, 61, 62, 63, 64, 65, 66, 67, 68, 69, 70, 71, 72, 73, 74, 75, 76, 77, 78, 79, 80, 81, 82, 83, 84, 85, 86, 87, 88, 89, 90, 91, 92, 93, 94, 95, 96, 97, 98, 99]\n",
      "my_list_with_start\n"
     ]
    }
   ],
   "source": [
    "my_list = [0, 1, 2, 3, 4, 5, 6, 7, 8, 9]\n",
    "\n",
    "from random import randint\n",
    "\n",
    "heads = 0 \n",
    "tails = 0 \n",
    "w = 100\n",
    "my_list = []\n",
    "my_list_start_with_start = [1]\n",
    "flip = int(input(\"how many coin tosses are you going to do?: \"))\n",
    "for i in range(w):\n",
    "    result =randint(0, 1)\n",
    "    #print(result)\n",
    "    if result ==0:\n",
    "        #print(\"heads\")\n",
    "        heads +=1\n",
    "        my_list.append(i)\n",
    "        last_element_of_my_list_with_start = my_list_with_start[-1]\n",
    "        next_element = last_element_of_my_list_with_start * 2\n",
    "        my_list_with_start.append(next_element)\n",
    "    else:\n",
    "        #print(\"tails\")\n",
    "        my_list.append(i)\n",
    "        last_element_of_my_list_with_start = my_list_with_start[-1]\n",
    "        next_element = last_element_of_my_list_with_start * 2\n",
    "        my_list_with_start.append(next_element)\n",
    "        tails +=1\n",
    "\n",
    "print(\"The results are:\")\n",
    "\n",
    "print(\"heads\", heads)\n",
    "print(\"tails\", tails)\n",
    "print(\"Win\", w)\n",
    "\n",
    "print(f\"{my_list}\")\n",
    "print(f\"my_list_with_start\")\n"
   ]
  },
  {
   "cell_type": "code",
   "execution_count": 4,
   "id": "cb42c1c1",
   "metadata": {},
   "outputs": [
    {
     "name": "stdout",
     "output_type": "stream",
     "text": [
      "The results are:\n",
      "heads [0, 1, 1, 0, 0]\n",
      "tails [1, 0, 0, 1, 1]\n",
      "Win [100, 90, 100, 110, 100, 90]\n"
     ]
    }
   ],
   "source": [
    "from random import randint\n",
    "\n",
    "heads = [] #changed from 0 to an empthy list\n",
    "tails = [] #changed from 0 to an empthy list\n",
    "w = [100]  #changed from 0 to a list that has the start value of 100 in it\n",
    "flip = 5 #changed from an input to just be a number\n",
    "\n",
    "for i in range(flip): #changed so we loop over the number of flips we have just specified\n",
    "    result =randint(0, 1)\n",
    "    #print(result)\n",
    "    if result ==0:\n",
    "        #print(\"heads\")\n",
    "        heads.append(1) #changed from adding 1 to the variable to put a 1 in our HEADS list\n",
    "        tails.append(0) #added such that we put a 0 in our TAILS list, as we got HEADS\n",
    "        previous_wealth = w[-1] #takes the wealth from last round (this is the last in our w list, which we can get by saying -1)\n",
    "        new_wealth = previous_wealth + 10 #if we get HEADS we get 10 ekstra in wealth\n",
    "        w.append(new_wealth) #adding our new wealth to the w list\n",
    "    else:\n",
    "        #print(\"tails\")\n",
    "        tails.append(1) #changed from adding 1 to the variable to put a 1 in our TAILS list\n",
    "        heads.append(0) #added such that we put a 0 in our HEADS list, as we got TAILS\n",
    "        previous_wealth = w[-1] #takes the wealth from last round (this is the last in our w list, which we can get by saying -1)\n",
    "        new_wealth = previous_wealth - 10 #if we get TAILS we get 10 less in wealth\n",
    "        w.append(new_wealth) #adding our new wealth to the w list\n",
    "\n",
    "print(\"The results are:\")\n",
    "\n",
    "print(\"heads\", heads)\n",
    "print(\"tails\", tails)\n",
    "print(\"Win\", w)\n"
   ]
  }
 ],
 "metadata": {
  "kernelspec": {
   "display_name": "Python 3 (ipykernel)",
   "language": "python",
   "name": "python3"
  },
  "language_info": {
   "codemirror_mode": {
    "name": "ipython",
    "version": 3
   },
   "file_extension": ".py",
   "mimetype": "text/x-python",
   "name": "python",
   "nbconvert_exporter": "python",
   "pygments_lexer": "ipython3",
   "version": "3.9.7"
  }
 },
 "nbformat": 4,
 "nbformat_minor": 5
}
