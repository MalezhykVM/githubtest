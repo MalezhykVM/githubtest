{
 "cells": [
  {
   "cell_type": "code",
   "execution_count": 36,
   "id": "f61843d5",
   "metadata": {},
   "outputs": [
    {
     "name": "stdout",
     "output_type": "stream",
     "text": [
      "how many coin tosses are you going to do?: 4\n",
      "0\n",
      "heads\n",
      "110\n",
      "0\n",
      "heads\n",
      "120\n",
      "1\n",
      "tails\n",
      "110\n",
      "0\n",
      "heads\n",
      "120\n",
      "The results are:\n",
      "heads 3\n",
      "tails 1\n",
      "Win 120\n",
      "[0, 1, 2, 3, 4, 5, 6, 7, 8, 9, 3]\n",
      "my_list_with_start\n"
     ]
    }
   ],
   "source": [
    "my_list = [0, 1, 2, 3, 4, 5, 6, 7, 8, 9]\n",
    "\n",
    "from random import randint\n",
    "\n",
    "heads = 0\n",
    "tails = 0\n",
    "w = 100\n",
    "flip = int(input(\"how many coin tosses are you going to do?: \"))\n",
    "for i in range(flip):\n",
    "    result =randint(0, 1)\n",
    "    print(result)\n",
    "    if result ==0:\n",
    "        print(\"heads\")\n",
    "        print(w + 10)\n",
    "        heads +=1\n",
    "        w +=10\n",
    "    else:\n",
    "        print(\"tails\")\n",
    "        print(w - 10)\n",
    "        w -=10\n",
    "        tails +=1\n",
    "print(\"The results are:\")\n",
    "\n",
    "print(\"heads\", heads)\n",
    "print(\"tails\", tails)\n",
    "print(\"Win\", w)\n",
    "my_list.append(i)\n",
    "last_element_of_my_list_with_start = my_list_with_start[-1]\n",
    "next_element = last_element_of_my_list_with_start * 2\n",
    "my_list_with_start.append(next_element)\n",
    "print(f\"{my_list}\")\n",
    "print(f\"my_list_with_start\")\n"
   ]
  },
  {
   "cell_type": "code",
   "execution_count": 6,
   "id": "93462e87",
   "metadata": {},
   "outputs": [
    {
     "name": "stdout",
     "output_type": "stream",
     "text": [
      "[0]\n",
      "my_list_with_start\n",
      "[0, 1]\n",
      "my_list_with_start\n",
      "[0, 1, 2]\n",
      "my_list_with_start\n",
      "[0, 1, 2, 3]\n",
      "my_list_with_start\n",
      "[0, 1, 2, 3, 4]\n",
      "my_list_with_start\n",
      "[0, 1, 2, 3, 4, 5]\n",
      "my_list_with_start\n",
      "[0, 1, 2, 3, 4, 5, 6]\n",
      "my_list_with_start\n",
      "[0, 1, 2, 3, 4, 5, 6, 7]\n",
      "my_list_with_start\n",
      "[0, 1, 2, 3, 4, 5, 6, 7, 8]\n",
      "my_list_with_start\n",
      "[0, 1, 2, 3, 4, 5, 6, 7, 8, 9]\n",
      "my_list_with_start\n"
     ]
    }
   ],
   "source": [
    "[0, 1, 2, 3, 4, 5, 6, 7, 8, 9]\n",
    "my_list = []\n",
    "my_list_with_start = [10]\n",
    "for i in range(10):\n",
    "    my_list.append(i)\n",
    "    last_element_of_my_list_with_start = my_list_with_start[-1]\n",
    "    next_element = last_element_of_my_list_with_start * 2\n",
    "    my_list_with_start.append(next_element)\n",
    "    print(f\"{my_list}\")\n",
    "    print(f\"my_list_with_start\")"
   ]
  },
  {
   "cell_type": "code",
   "execution_count": 10,
   "id": "91d6d992",
   "metadata": {},
   "outputs": [],
   "source": [
    "import numpy as np"
   ]
  },
  {
   "cell_type": "code",
   "execution_count": 31,
   "id": "23f7caf0",
   "metadata": {},
   "outputs": [
    {
     "name": "stdout",
     "output_type": "stream",
     "text": [
      "0.18\n",
      "HEADS\n"
     ]
    }
   ],
   "source": [
    "random_number = np.random.uniform(low=0.0, high=1.0, size=1) \n",
    "bias_on_coin = 4\n",
    "print(f'{random_number[0]:.2f}')\n",
    "if random_number < bias_on_coin:\n",
    "    print('HEADS')\n",
    "else:\n",
    "    print(\"TAILS\")"
   ]
  },
  {
   "cell_type": "code",
   "execution_count": null,
   "id": "130574e0",
   "metadata": {},
   "outputs": [],
   "source": []
  },
  {
   "cell_type": "code",
   "execution_count": null,
   "id": "2fbbe93e",
   "metadata": {},
   "outputs": [],
   "source": []
  }
 ],
 "metadata": {
  "kernelspec": {
   "display_name": "Python 3 (ipykernel)",
   "language": "python",
   "name": "python3"
  },
  "language_info": {
   "codemirror_mode": {
    "name": "ipython",
    "version": 3
   },
   "file_extension": ".py",
   "mimetype": "text/x-python",
   "name": "python",
   "nbconvert_exporter": "python",
   "pygments_lexer": "ipython3",
   "version": "3.9.7"
  }
 },
 "nbformat": 4,
 "nbformat_minor": 5
}
