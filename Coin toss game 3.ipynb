{
 "cells": [
  {
   "cell_type": "code",
   "execution_count": 1,
   "id": "ee1c6eb5",
   "metadata": {},
   "outputs": [],
   "source": [
    "import random"
   ]
  },
  {
   "cell_type": "code",
   "execution_count": 2,
   "id": "aa0dc6ec",
   "metadata": {},
   "outputs": [
    {
     "name": "stdout",
     "output_type": "stream",
     "text": [
      "heads or tails: tails\n",
      "You win! The coin landed on tails\n",
      "110\n"
     ]
    }
   ],
   "source": [
    "coin = [\"heads\", \"tails\"]\n",
    "toss = random.choice(coin)\n",
    "w = 100\n",
    "\n",
    "\n",
    "selection = input(\"heads or tails: \")\n",
    "\n",
    "if selection == toss:\n",
    "    print(\"You win! The coin landed on \" + toss)\n",
    "    print(w + 10)\n",
    "else:\n",
    "    print(\"You lose!, The coin landed on \" + toss)\n",
    "    print(w - 10)"
   ]
  },
  {
   "cell_type": "code",
   "execution_count": null,
   "id": "a500a46a",
   "metadata": {},
   "outputs": [],
   "source": []
  }
 ],
 "metadata": {
  "kernelspec": {
   "display_name": "Python 3 (ipykernel)",
   "language": "python",
   "name": "python3"
  },
  "language_info": {
   "codemirror_mode": {
    "name": "ipython",
    "version": 3
   },
   "file_extension": ".py",
   "mimetype": "text/x-python",
   "name": "python",
   "nbconvert_exporter": "python",
   "pygments_lexer": "ipython3",
   "version": "3.9.7"
  }
 },
 "nbformat": 4,
 "nbformat_minor": 5
}
