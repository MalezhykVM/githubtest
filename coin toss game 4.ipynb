{
 "cells": [
  {
   "cell_type": "code",
   "execution_count": 20,
   "id": "2f491931",
   "metadata": {},
   "outputs": [],
   "source": [
    "import numpy as np\n",
    "import pandas as pd\n",
    "import matplotlib.pyplot as plt"
   ]
  },
  {
   "cell_type": "code",
   "execution_count": 21,
   "id": "a4678804",
   "metadata": {},
   "outputs": [],
   "source": [
    "N = 1000\n",
    "w = 100\n",
    "h = 70\n",
    "t = -70\n",
    "p = 0.5"
   ]
  },
  {
   "cell_type": "code",
   "execution_count": 22,
   "id": "8651d78b",
   "metadata": {},
   "outputs": [],
   "source": [
    "wealth = [w]\n",
    "coin_tosses = []"
   ]
  },
  {
   "cell_type": "code",
   "execution_count": 23,
   "id": "9c78c981",
   "metadata": {},
   "outputs": [],
   "source": [
    "for i in range(N):\n",
    "    coin_toss = np.random.uniform(low=0, high=1)\n",
    "if coin_toss > p:\n",
    "    coin_tosses.append('Heads')\n",
    "    new_wealth = wealth[-1] + h\n",
    "    wealth.append(new_wealth)\n",
    "else:\n",
    "    coin_tosses.append('Tails')\n",
    "    new_wealth = wealth[-1] + t\n",
    "    wealth.append(new_wealth)"
   ]
  },
  {
   "cell_type": "code",
   "execution_count": 30,
   "id": "9d6c7e1c",
   "metadata": {},
   "outputs": [
    {
     "name": "stdout",
     "output_type": "stream",
     "text": [
      "  Coin_toss  Wealth before toss  Wealth after toss\n",
      "0     Heads                 100                170\n",
      "  Coin_toss  Wealth before toss  Wealth after toss\n",
      "0     Heads                 100                170\n"
     ]
    }
   ],
   "source": [
    "data = {\"Coin_toss\": coin_tosses,\n",
    "       \"Wealth before toss\": wealth[:-1],\n",
    "       'Wealth after toss': wealth[1:]}\n",
    "df = pd.DataFrame(data=data)\n",
    "print(df.head(5))\n",
    "print(df.tail(5))"
   ]
  },
  {
   "cell_type": "code",
   "execution_count": 29,
   "id": "3aae5388",
   "metadata": {},
   "outputs": [
    {
     "data": {
      "text/plain": [
       "<function matplotlib.pyplot.show(close=None, block=None)>"
      ]
     },
     "execution_count": 29,
     "metadata": {},
     "output_type": "execute_result"
    },
    {
     "data": {
      "image/png": "[encoded data removed]",
      "text/plain": [
       "<Figure size 432x288 with 1 Axes>"
      ]
     },
     "metadata": {
      "needs_background": "light"
     },
     "output_type": "display_data"
    }
   ],
   "source": [
    "plt.hist(coin_tosses)\n",
    "plt.show"
   ]
  },
  {
   "cell_type": "code",
   "execution_count": null,
   "id": "ceeba0f5",
   "metadata": {},
   "outputs": [],
   "source": []
  }
 ],
 "metadata": {
  "kernelspec": {
   "display_name": "Python 3 (ipykernel)",
   "language": "python",
   "name": "python3"
  },
  "language_info": {
   "codemirror_mode": {
    "name": "ipython",
    "version": 3
   },
   "file_extension": ".py",
   "mimetype": "text/x-python",
   "name": "python",
   "nbconvert_exporter": "python",
   "pygments_lexer": "ipython3",
   "version": "3.9.7"
  }
 },
 "nbformat": 4,
 "nbformat_minor": 5
}
