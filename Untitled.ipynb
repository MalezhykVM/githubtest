{
 "cells": [
  {
   "cell_type": "code",
   "execution_count": 3,
   "id": "bdc6a5a9",
   "metadata": {},
   "outputs": [],
   "source": [
    "d = {}\n",
    "# d = {\"George\"} = 24, \"Tom\" = 32}"
   ]
  },
  {
   "cell_type": "code",
   "execution_count": 4,
   "id": "797132a1",
   "metadata": {},
   "outputs": [],
   "source": [
    "d[\"George\"] = 24"
   ]
  },
  {
   "cell_type": "code",
   "execution_count": 5,
   "id": "cf977a3c",
   "metadata": {},
   "outputs": [],
   "source": [
    "d[\"Tom\"] = 23"
   ]
  },
  {
   "cell_type": "code",
   "execution_count": 6,
   "id": "7358e77c",
   "metadata": {},
   "outputs": [],
   "source": [
    "d[\"Jenny\"] = 16"
   ]
  },
  {
   "cell_type": "code",
   "execution_count": 8,
   "id": "3f5f4807",
   "metadata": {},
   "outputs": [
    {
     "name": "stdout",
     "output_type": "stream",
     "text": [
      "24\n"
     ]
    }
   ],
   "source": [
    "print(d[\"George\"])"
   ]
  },
  {
   "cell_type": "code",
   "execution_count": 9,
   "id": "b640e9cc",
   "metadata": {},
   "outputs": [
    {
     "name": "stdout",
     "output_type": "stream",
     "text": [
      "23\n"
     ]
    }
   ],
   "source": [
    "print(d[\"Tom\"])"
   ]
  },
  {
   "cell_type": "code",
   "execution_count": 10,
   "id": "c7e8f9b3",
   "metadata": {},
   "outputs": [
    {
     "name": "stdout",
     "output_type": "stream",
     "text": [
      "16\n"
     ]
    }
   ],
   "source": [
    "print(d[\"Jenny\"])"
   ]
  },
  {
   "cell_type": "code",
   "execution_count": 11,
   "id": "bdb4cdbd",
   "metadata": {},
   "outputs": [],
   "source": [
    "d[\"Jenny\"] = 20"
   ]
  },
  {
   "cell_type": "code",
   "execution_count": 12,
   "id": "bab706b4",
   "metadata": {},
   "outputs": [
    {
     "name": "stdout",
     "output_type": "stream",
     "text": [
      "20\n"
     ]
    }
   ],
   "source": [
    "print(d[\"Jenny\"])"
   ]
  },
  {
   "cell_type": "code",
   "execution_count": 14,
   "id": "4ef1ac60",
   "metadata": {},
   "outputs": [],
   "source": [
    "d[10] = 100\n"
   ]
  },
  {
   "cell_type": "code",
   "execution_count": 16,
   "id": "cd8aa4a0",
   "metadata": {},
   "outputs": [
    {
     "name": "stdout",
     "output_type": "stream",
     "text": [
      "100\n"
     ]
    }
   ],
   "source": [
    "print(d[10])"
   ]
  },
  {
   "cell_type": "code",
   "execution_count": 19,
   "id": "9df1aa4d",
   "metadata": {},
   "outputs": [
    {
     "name": "stdout",
     "output_type": "stream",
     "text": [
      "key\n",
      "George\n",
      "Value\n",
      "24\n",
      "\n",
      "key\n",
      "Tom\n",
      "Value\n",
      "23\n",
      "\n",
      "key\n",
      "Jenny\n",
      "Value\n",
      "20\n",
      "\n",
      "key\n",
      "10\n",
      "Value\n",
      "100\n",
      "\n"
     ]
    }
   ],
   "source": [
    "# How to iterate over key-values pairs in dictionery Python\n",
    "for key, value in d.items():\n",
    "    print(\"key\")\n",
    "    print(key)\n",
    "    print(\"Value\")\n",
    "    print(value)\n",
    "    print(\"\")\n",
    "    "
   ]
  },
  {
   "cell_type": "code",
   "execution_count": null,
   "id": "54f7f0a5",
   "metadata": {},
   "outputs": [],
   "source": []
  }
 ],
 "metadata": {
  "kernelspec": {
   "display_name": "Python 3 (ipykernel)",
   "language": "python",
   "name": "python3"
  },
  "language_info": {
   "codemirror_mode": {
    "name": "ipython",
    "version": 3
   },
   "file_extension": ".py",
   "mimetype": "text/x-python",
   "name": "python",
   "nbconvert_exporter": "python",
   "pygments_lexer": "ipython3",
   "version": "3.9.7"
  }
 },
 "nbformat": 4,
 "nbformat_minor": 5
}
